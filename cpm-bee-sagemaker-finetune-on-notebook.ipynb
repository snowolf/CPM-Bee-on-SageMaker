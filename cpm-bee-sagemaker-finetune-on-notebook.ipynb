{
 "cells": [
  {
   "cell_type": "markdown",
   "id": "90f55389-9564-41e7-a8ae-0bbd0904ced3",
   "metadata": {},
   "source": [
    "# CPM-Bee 教程：基础微调\n",
    "\n",
    "本示例介绍 [CPM-Bee](https://github.com/OpenBMB/CPM-Bee) 的微调，CPM-Bee是一个基座模型，即从零开始通过预训练得来。本示例参考官方[基础微调文档](https://github.com/OpenBMB/CPM-Bee/tree/main/tutorials/basic_task_finetune)，使用 Amazon SageMaker Notebook 实例进行模型微调。\n",
    "\n",
    " - 本教程使用 **conda_mxnet_p38** 环境，您可以在右上角切换。\n",
    " - 本教程使用 **ml.g5.12xlarge** 实例类型。"
   ]
  },
  {
   "cell_type": "code",
   "execution_count": null,
   "id": "e1732236",
   "metadata": {},
   "outputs": [],
   "source": [
    "!pip install --force-reinstall torch==1.11.0+cu113 --extra-index-url https://download.pytorch.org/whl/"
   ]
  },
  {
   "cell_type": "markdown",
   "id": "cd4f8c18",
   "metadata": {},
   "source": [
    "### 下载 CPM-Bee 代码"
   ]
  },
  {
   "cell_type": "code",
   "execution_count": null,
   "id": "dc932e98",
   "metadata": {},
   "outputs": [],
   "source": [
    "!git clone https://github.com/OpenBMB/CPM-Bee.git"
   ]
  },
  {
   "cell_type": "markdown",
   "id": "01f2fdae",
   "metadata": {},
   "source": [
    "#### 安装所需的依赖"
   ]
  },
  {
   "cell_type": "code",
   "execution_count": null,
   "id": "3f3d300e",
   "metadata": {},
   "outputs": [],
   "source": [
    "%%script bash\n",
    "export TORCH_CUDA_ARCH_LIST=\"6.0 6.1 7.0 7.5 8.0 8.6+PTX\"\n",
    "export SKLEARN_ALLOW_DEPRECATED_SKLEARN_PACKAGE_INSTALL=True \n",
    "pip install -r CPM-Bee/src/requirements.txt"
   ]
  },
  {
   "cell_type": "markdown",
   "id": "fdd34a44-77f7-464c-bd98-4147deac0c56",
   "metadata": {
    "tags": []
   },
   "source": [
    "### CPM-Bee 数据格式介绍\n",
    "\n",
    "CPM-Bee基座模型可以将多种自然语言处理任务统一用生成的方式解决。CPM-Bee 采用特殊的多任务预训练模式，所有的数据都统一用一个字典来管理。我们可以任意设计字典中的键值对来表达我们希望模型做的事情，同时预留一个字段，用于存储模型给出的答案。注意，字段是必需的，基本格式如下：\n",
    "\n",
    "```json \n",
    "{\"some_key\": \"...\", \"<ans>\": \"\"}\n",
    "```\n",
    "\n",
    "尽管输入数据的格式是任意的，但由于模型在预训练阶段使用了有限的几种数据格式，我们建议您在使用CPM-Bee推理时尽量使用这些参考格式。\n",
    "\n",
    "文本生成\n",
    "```json\n",
    "# 文本生成\n",
    "{\"input\": \"今天天气不错，\", \"prompt\":\"往后写100字\", \"<ans>\":\"\"}\n",
    "```\n",
    "`input`字段用于填写上下文，它并不是唯一的，您可以使用\"source\", \"document\", \"query\", \"text\", \"文章\", \"文档\", \"原文\", \"输入\", \"context\", \"上下文\"等类似的键来替换。\n",
    "\n",
    "`prompt`字段用来给出一些提示和指定任务，该字段并不是必需的，但是我们建议您使用合理的 `prompt` 来更好地驱动模型。`prompt`也可以被\"hint\", \"task\", \"prompt\", \"任务\", \"提示\", \"目标\", \"target\"等替换。请注意，prompt 一般会提供一些控制信息，如\"往后写xxx字\"，\"中翻英\"，\"给这段话生成摘要\"等。\n",
    "\n",
    "翻译\n",
    "\n",
    "```json\n",
    "# 翻译\n",
    "{\"input\": \"今天天气不错，\", \"prompt\":\"中翻英\", \"<ans>\":\"\"}\n",
    "```\n",
    "\n",
    "CPM-Bee目前支持中英互译。`prompt`一般可选\"中翻英\"/\"英翻中\"，\"中译英\"/\"英译中\"，\"把文章翻译为英文\"/\"把文章翻译为中文\"，\"Translate from English to Chinese\"等。\n",
    "\n",
    "问答\n",
    "```json\n",
    "# 问答\n",
    "{\"input\": \"今天天气不错，\", \"prompt\":\"问答\", \"question\": \"今天天气怎么样\", \"<ans>\":\"\"}\n",
    "```\n",
    "\n",
    "选择题\n",
    "\n",
    "```json\n",
    "# 选择题\n",
    "{\"input\": \"今天天气不错，\", \"prompt\":\"选择题\", \"question\": \"今天天气怎么样\", \"options\": {\"<option_0>\": \"好\", \"<option_1>\": \"坏\"}, \"<ans>\":\"\"}\n",
    "```\n",
    "\n",
    "`options`可以等价替换为\"answers\", \"candidates\", \"选项\"...\n",
    "\n",
    "命名实体识别\n",
    "\n",
    "```json\n",
    "# NER\n",
    "{\"input\":\"在司法部工作的小楠说，今天北京天气不错\",\"<ans>\":{\"人名\":\"\",\"地名\":\"\",\"机构名\": \"\"}}\n",
    "```\n",
    "\n",
    "以上是一些常见的任务的数据格式。请注意里面用到的字段不是严格限定的，您可以做一些近似语义的替换，比如把\"中翻英\"替换为\"把这段话翻译成英文\"。您也可以在微调时自由设计数据格式，例如，当您希望微调一个对话模型，您可以构造数据格式为\n",
    "\n",
    "```json\n",
    "{\"input\": \"用户： 你好，我想问一下明天天气会怎样？\\n<sep>AI： 你好！明天的天气会根据你所在的城市而异，请告诉我你所在的城市。\\n<sep>用户： 我在北京。\\n<sep>AI：\", \"<ans>\": \" 明天北京天气预计为阴转多云，最高气温26℃，最低气温18℃。\"}\n",
    "```\n",
    "\n",
    "您也可以不使用`<sep>`，使用如下格式也可以：\n",
    "\n",
    "```json\n",
    "{\"input\": \"<问题>你好，我想问一下明天天气会怎样？\\n<答案>你好！明天的天气会根据你所在的城市而异，请告诉我你所在的城市。\\n<问题>我在北京。\\n<答案>\", \"<ans>\": \" 明天北京天气预计为阴转多云，最高气温26℃，最低气温18℃。\"}\n",
    "```\n",
    "总之，您可以灵活定义您的数据格式。"
   ]
  },
  {
   "cell_type": "markdown",
   "id": "917d3b58",
   "metadata": {},
   "source": [
    "### 使用CPM-Bee进行基础任务微调\n",
    "\n",
    "本教程将以一个序列-序列任务为例介绍对 CPM-Bee 基座模型的微调。这里我们选择的任务需要将一句白话文“翻译”成一句古诗。首先，微调需要准备原始数据，格式如下：\n",
    "```json\n",
    "{\"target\": \"3\", \"input\": \"[翻译]昏暗的灯熄灭了又被重新点亮。[0]渔灯灭复明[1]残灯灭又然[2]残灯暗复明[3]残灯灭又明[答案]\"}\n",
    "```\n",
    "放置在路径`raw_data/`下。"
   ]
  },
  {
   "cell_type": "markdown",
   "id": "7fc3c8cf",
   "metadata": {},
   "source": [
    "官方示例中已经提供了该 raw data，并放置在 CPM-Bee/tutorials/basic_task_finetune/raw_data 下面，本教程将直接使用。"
   ]
  },
  {
   "cell_type": "markdown",
   "id": "4798957e",
   "metadata": {},
   "source": [
    "### 下载基础模型"
   ]
  },
  {
   "cell_type": "code",
   "execution_count": null,
   "id": "169d5ba6",
   "metadata": {},
   "outputs": [],
   "source": [
    "!rm -rf CPM-Bee/src/5B-ckpts/\n",
    "!mkdir CPM-Bee/src/5B-ckpts/"
   ]
  },
  {
   "cell_type": "code",
   "execution_count": null,
   "id": "ffc909ac",
   "metadata": {},
   "outputs": [],
   "source": [
    "!wget -O CPM-Bee/src/5B-ckpts/config.json https://huggingface.co/openbmb/cpm-bee-5b/resolve/main/config.json\n",
    "!wget -O CPM-Bee/src/5B-ckpts/vocab.txt https://huggingface.co/openbmb/cpm-bee-5b/resolve/main/vocab.txt\n",
    "!wget -O CPM-Bee/src/5B-ckpts/pytorch_model.bin https://huggingface.co/openbmb/cpm-bee-5b/resolve/main/pytorch_model.bin"
   ]
  },
  {
   "cell_type": "markdown",
   "id": "5478284a",
   "metadata": {},
   "source": [
    "#### 重新调整数据格式："
   ]
  },
  {
   "cell_type": "code",
   "execution_count": null,
   "id": "e9056869",
   "metadata": {},
   "outputs": [],
   "source": [
    "%%sh\n",
    "cd CPM-Bee/tutorials/basic_task_finetune && python data_reformat.py"
   ]
  },
  {
   "cell_type": "markdown",
   "id": "6b1e6b2e",
   "metadata": {},
   "source": [
    "得到格式：\n",
    "```json\n",
    "{\"input\": \"昏暗的灯熄灭了又被重新点亮。\", \"options\": {\"<option_0>\": \"渔灯灭复明\", \"<option_1>\": \"残灯灭又然\", \"<option_2>\": \"残灯暗复明\", \"<option_3>\": \"残灯灭又明\"}, \"question\": \"这段话形容了哪句诗的意境？\", \"<ans>\": \"<option_3>\"}\n",
    "```\n",
    "放置在路径`CPM-Bee/tutorials/basic_task_finetune/bee_data/`下。\n",
    "\n",
    "注：该格式为参考格式。微调时，您可以自由设计您的数据格式，可以不设置`prompt`字段，只要所提供的数据涵盖所有必要信息即可，但我们一般推荐将输入文本字段标识为\"input\"/\"document\"/\"doc\"，如果是选择题，则应当添加\"options\"字段与\"question\"字段；如果是一般的文本生成，包含`input`+`\\<ans\\>`即可。\n"
   ]
  },
  {
   "cell_type": "markdown",
   "id": "53cd28f1",
   "metadata": {},
   "source": [
    "#### 构建二进制数据文件："
   ]
  },
  {
   "cell_type": "code",
   "execution_count": null,
   "id": "1834c976",
   "metadata": {},
   "outputs": [],
   "source": [
    "!rm -rf CPM-Bee/tutorials/basic_task_finetune/bin_data\n",
    "!mkdir CPM-Bee/tutorials/basic_task_finetune/bin_data\n",
    "!rm -rf tmp\n",
    "!rm -rf CPM-Bee/tutorials/basic_task_finetune/bee_data/.ipynb_checkpoints"
   ]
  },
  {
   "cell_type": "code",
   "execution_count": null,
   "id": "09f4e3a6",
   "metadata": {},
   "outputs": [],
   "source": [
    "finetune_path = \"CPM-Bee/tutorials/basic_task_finetune\""
   ]
  },
  {
   "cell_type": "code",
   "execution_count": null,
   "id": "ce1cc750",
   "metadata": {},
   "outputs": [],
   "source": [
    "%%script env finetune_path=$finetune_path bash\n",
    "python CPM-Bee/src/preprocess_dataset.py --input ${finetune_path}/bee_data --output_path ${finetune_path}/bin_data --output_name ccpm_data"
   ]
  },
  {
   "cell_type": "markdown",
   "id": "098475f9",
   "metadata": {},
   "source": [
    "生成的数据将放在路径`bin_data/`下。\n",
    "\n",
    "**注：**应确保没有同名路径`ccpm_example/bin_data/`，如存在同名路径，应先删除该路径再运行上述指令。如未提前删除，该指令会报错`ValueError: Dataset name exists`，同时产生一个新路径`tmp/`，此时应当连同`tmp/`与同名路径`ccpm_example/bin_data/`一并删除，之后再运行上述指令即可。\n"
   ]
  },
  {
   "cell_type": "markdown",
   "id": "29429dfe-5a3f-4a95-83c6-fefd48730a57",
   "metadata": {},
   "source": [
    "### 训练"
   ]
  },
  {
   "cell_type": "markdown",
   "id": "896c14c4-ee95-4b57-9441-7d7efaedd441",
   "metadata": {},
   "source": [
    "运行以下指令进行训练："
   ]
  },
  {
   "cell_type": "markdown",
   "id": "e7efda05",
   "metadata": {},
   "source": [
    "修改模型微调脚本`CPM-Bee/src/scripts/finetune_cpm_bee.sh`为："
   ]
  },
  {
   "cell_type": "code",
   "execution_count": null,
   "id": "3030bc1d",
   "metadata": {},
   "outputs": [],
   "source": [
    "%%writefile CPM-Bee/src/scripts/finetune_cpm_bee.sh\n",
    "#! /bin/bash\n",
    "\n",
    "#单卡微调\n",
    "export CUDA_VISIBLE_DEVICES=0,1,2,3\n",
    "GPUS_PER_NODE=4\n",
    "\n",
    "NNODES=1\n",
    "MASTER_ADDR=\"localhost\"\n",
    "MASTER_PORT=12346\n",
    "\n",
    "OPTS=\"\"\n",
    "OPTS+=\" --use-delta\"  # 使用增量微调（delta-tuning）\n",
    "OPTS+=\" --model-config CPM-Bee/src/5B-ckpts/config.json\"  # 模型配置文件\n",
    "OPTS+=\" --dataset CPM-Bee/tutorials/basic_task_finetune/bin_data/train\"  # 训练集路径\n",
    "OPTS+=\" --eval_dataset CPM-Bee/tutorials/basic_task_finetune/bin_data/eval\"  # 验证集路径\n",
    "OPTS+=\" --epoch 1\"  # 训练epoch数\n",
    "OPTS+=\" --batch-size 1\"    # 数据批次大小\n",
    "OPTS+=\" --train-iters 100\"  # 用于lr_schedular\n",
    "OPTS+=\" --save-name cpm_bee_finetune\"  # 保存名称\n",
    "OPTS+=\" --max-length 2048\" # 最大长度\n",
    "OPTS+=\" --save results/\"  # 保存路径\n",
    "OPTS+=\" --lr 0.0001\"    # 学习率\n",
    "OPTS+=\" --inspect-iters 100\"  # 每100个step进行一次检查(bmtrain inspect)\n",
    "OPTS+=\" --warmup-iters 1\" # 预热学习率的步数为1\n",
    "OPTS+=\" --eval-interval 50\"  # 每50步验证一次\n",
    "OPTS+=\" --early-stop-patience 5\"  # 如果验证集loss连续5次不降，停止微调\n",
    "OPTS+=\" --lr-decay-style noam\"  # 选择noam方式调度学习率\n",
    "OPTS+=\" --weight-decay 0.01\"  # 优化器权重衰减率为0.01\n",
    "OPTS+=\" --clip-grad 1.0\"  # 半精度训练的grad clip\n",
    "OPTS+=\" --loss-scale 32768\"  # 半精度训练的loss scale\n",
    "OPTS+=\" --start-step 0\"  # 用于加载lr_schedular的中间状态\n",
    "OPTS+=\" --load CPM-Bee/src/5B-ckpts/pytorch_model.bin\"  # 模型参数文件\n",
    "\n",
    "\n",
    "CMD=\"torchrun --nnodes=${NNODES} --nproc_per_node=${GPUS_PER_NODE} --rdzv_id=1 --rdzv_backend=c10d --rdzv_endpoint=${MASTER_ADDR}:${MASTER_PORT} CPM-Bee/src/finetune_cpm_bee.py ${OPTS}\"\n",
    "\n",
    "echo ${CMD}\n",
    "$CMD"
   ]
  },
  {
   "cell_type": "markdown",
   "id": "e86f2648-36d1-4ca6-9a19-ba354ebe6c8d",
   "metadata": {},
   "source": [
    "## 开启训练"
   ]
  },
  {
   "cell_type": "markdown",
   "id": "94c4e415",
   "metadata": {
    "tags": []
   },
   "source": [
    "直接运行脚本即可开始微调："
   ]
  },
  {
   "cell_type": "code",
   "execution_count": null,
   "id": "37813667",
   "metadata": {
    "scrolled": true
   },
   "outputs": [],
   "source": [
    "!sh CPM-Bee/src/scripts/finetune_cpm_bee.sh"
   ]
  },
  {
   "cell_type": "markdown",
   "id": "b3766012",
   "metadata": {},
   "source": [
    "您可以在`CPM-Bee/src/results/`中查看存储的模型或者轻量级 Delta 模块。"
   ]
  }
 ],
 "metadata": {
  "kernelspec": {
   "display_name": "conda_mxnet_p38",
   "language": "python",
   "name": "conda_mxnet_p38"
  },
  "language_info": {
   "codemirror_mode": {
    "name": "ipython",
    "version": 3
   },
   "file_extension": ".py",
   "mimetype": "text/x-python",
   "name": "python",
   "nbconvert_exporter": "python",
   "pygments_lexer": "ipython3",
   "version": "3.8.16"
  }
 },
 "nbformat": 4,
 "nbformat_minor": 5
}
