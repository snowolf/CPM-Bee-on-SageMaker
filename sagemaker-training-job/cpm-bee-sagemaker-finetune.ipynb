{
 "cells": [
  {
   "cell_type": "markdown",
   "id": "f25d98fb-9a1e-4f98-b3fd-10b8ae565583",
   "metadata": {
    "tags": []
   },
   "source": [
    "# 准备基础环境"
   ]
  },
  {
   "cell_type": "markdown",
   "id": "00b5b4f1",
   "metadata": {},
   "source": [
    "**注意**\n",
    "- kernel 环境选择 **conda_mxnet_p38**."
   ]
  },
  {
   "cell_type": "markdown",
   "id": "751bc8af-7e6d-443c-9ee3-b4fd42575282",
   "metadata": {},
   "source": [
    "## 升级Python SDK"
   ]
  },
  {
   "cell_type": "code",
   "execution_count": null,
   "id": "c7794a87-f631-4925-bb2d-a8355225a097",
   "metadata": {
    "tags": []
   },
   "outputs": [],
   "source": [
    "!pip install --upgrade boto3\n",
    "!pip install --upgrade sagemaker"
   ]
  },
  {
   "cell_type": "code",
   "execution_count": null,
   "id": "d552c594",
   "metadata": {},
   "outputs": [],
   "source": [
    "!pip install --force-reinstall torch==1.11.0+cu113 --extra-index-url https://download.pytorch.org/whl/"
   ]
  },
  {
   "cell_type": "markdown",
   "id": "e3fde6af-3414-478f-be27-6e28203c36c9",
   "metadata": {},
   "source": [
    "## 获取Runtime资源配置"
   ]
  },
  {
   "cell_type": "code",
   "execution_count": null,
   "id": "9dfe8c4c-cb83-4306-a823-3b0eb119b47e",
   "metadata": {
    "tags": []
   },
   "outputs": [],
   "source": [
    "import boto3\n",
    "import sagemaker\n",
    "from sagemaker import get_execution_role\n",
    "\n",
    "sess = sagemaker.Session()\n",
    "role = get_execution_role()\n",
    "sagemaker_default_bucket = sess.default_bucket()\n",
    "\n",
    "account = sess.boto_session.client(\"sts\").get_caller_identity()[\"Account\"]\n",
    "region = sess.boto_session.region_name"
   ]
  },
  {
   "cell_type": "markdown",
   "id": "23a16e22-ad1a-44b3-a174-b0f6a8a96c80",
   "metadata": {},
   "source": [
    "# 准备微调模型"
   ]
  },
  {
   "cell_type": "markdown",
   "id": "0ff91a8e-44e6-47e3-8eb5-1a458476d28f",
   "metadata": {},
   "source": [
    "## 克隆 CPM-Bee 代码"
   ]
  },
  {
   "cell_type": "code",
   "execution_count": null,
   "id": "44baf3b5-8eed-4388-8ffe-005d53a3fa92",
   "metadata": {
    "tags": []
   },
   "outputs": [],
   "source": [
    "!git clone https://github.com/OpenBMB/CPM-Bee.git"
   ]
  },
  {
   "cell_type": "markdown",
   "id": "db9f6d7c",
   "metadata": {},
   "source": [
    "### 安装环境，为后续数据处理准备"
   ]
  },
  {
   "cell_type": "code",
   "execution_count": null,
   "id": "beff9ed9",
   "metadata": {
    "scrolled": true
   },
   "outputs": [],
   "source": [
    "%%script bash\n",
    "export TORCH_CUDA_ARCH_LIST=\"6.0 6.1 7.0 7.5 8.0 8.6+PTX\"\n",
    "export SKLEARN_ALLOW_DEPRECATED_SKLEARN_PACKAGE_INSTALL=True \n",
    "pip install -r CPM-Bee/src/requirements.txt"
   ]
  },
  {
   "cell_type": "markdown",
   "id": "19d9a1eb-f83f-4b18-9a0b-ee83adbbb621",
   "metadata": {},
   "source": [
    "## 准备数据集\n",
    "\n",
    "### CPM-Bee 数据格式介绍\n",
    "\n",
    "CPM-Bee基座模型可以将多种自然语言处理任务统一用生成的方式解决。CPM-Bee 采用特殊的多任务预训练模式，所有的数据都统一用一个字典来管理。我们可以任意设计字典中的键值对来表达我们希望模型做的事情，同时预留一个字段，用于存储模型给出的答案。注意，字段是必需的，基本格式如下：\n",
    "\n",
    "```json \n",
    "{\"some_key\": \"...\", \"<ans>\": \"\"}\n",
    "```\n",
    "\n",
    "尽管输入数据的格式是任意的，但由于模型在预训练阶段使用了有限的几种数据格式，我们建议您在使用CPM-Bee推理时尽量使用这些参考格式。\n",
    "\n",
    "文本生成\n",
    "```json\n",
    "# 文本生成\n",
    "{\"input\": \"今天天气不错，\", \"prompt\":\"往后写100字\", \"<ans>\":\"\"}\n",
    "```\n",
    "`input`字段用于填写上下文，它并不是唯一的，您可以使用\"source\", \"document\", \"query\", \"text\", \"文章\", \"文档\", \"原文\", \"输入\", \"context\", \"上下文\"等类似的键来替换。\n",
    "\n",
    "`prompt`字段用来给出一些提示和指定任务，该字段并不是必需的，但是我们建议您使用合理的 `prompt` 来更好地驱动模型。`prompt`也可以被\"hint\", \"task\", \"prompt\", \"任务\", \"提示\", \"目标\", \"target\"等替换。请注意，prompt 一般会提供一些控制信息，如\"往后写xxx字\"，\"中翻英\"，\"给这段话生成摘要\"等。\n",
    "\n",
    "翻译\n",
    "\n",
    "```json\n",
    "# 翻译\n",
    "{\"input\": \"今天天气不错，\", \"prompt\":\"中翻英\", \"<ans>\":\"\"}\n",
    "```\n",
    "\n",
    "CPM-Bee目前支持中英互译。`prompt`一般可选\"中翻英\"/\"英翻中\"，\"中译英\"/\"英译中\"，\"把文章翻译为英文\"/\"把文章翻译为中文\"，\"Translate from English to Chinese\"等。\n",
    "\n",
    "问答\n",
    "```json\n",
    "# 问答\n",
    "{\"input\": \"今天天气不错，\", \"prompt\":\"问答\", \"question\": \"今天天气怎么样\", \"<ans>\":\"\"}\n",
    "```\n",
    "\n",
    "选择题\n",
    "\n",
    "```json\n",
    "# 选择题\n",
    "{\"input\": \"今天天气不错，\", \"prompt\":\"选择题\", \"question\": \"今天天气怎么样\", \"options\": {\"<option_0>\": \"好\", \"<option_1>\": \"坏\"}, \"<ans>\":\"\"}\n",
    "```\n",
    "\n",
    "`options`可以等价替换为\"answers\", \"candidates\", \"选项\"...\n",
    "\n",
    "命名实体识别\n",
    "\n",
    "```json\n",
    "# NER\n",
    "{\"input\":\"在司法部工作的小楠说，今天北京天气不错\",\"<ans>\":{\"人名\":\"\",\"地名\":\"\",\"机构名\": \"\"}}\n",
    "```\n",
    "\n",
    "以上是一些常见的任务的数据格式。请注意里面用到的字段不是严格限定的，您可以做一些近似语义的替换，比如把\"中翻英\"替换为\"把这段话翻译成英文\"。您也可以在微调时自由设计数据格式，例如，当您希望微调一个对话模型，您可以构造数据格式为\n",
    "\n",
    "```json\n",
    "{\"input\": \"用户： 你好，我想问一下明天天气会怎样？\\n<sep>AI： 你好！明天的天气会根据你所在的城市而异，请告诉我你所在的城市。\\n<sep>用户： 我在北京。\\n<sep>AI：\", \"<ans>\": \" 明天北京天气预计为阴转多云，最高气温26℃，最低气温18℃。\"}\n",
    "```\n",
    "\n",
    "您也可以不使用`<sep>`，使用如下格式也可以：\n",
    "\n",
    "```json\n",
    "{\"input\": \"<问题>你好，我想问一下明天天气会怎样？\\n<答案>你好！明天的天气会根据你所在的城市而异，请告诉我你所在的城市。\\n<问题>我在北京。\\n<答案>\", \"<ans>\": \" 明天北京天气预计为阴转多云，最高气温26℃，最低气温18℃。\"}\n",
    "```\n",
    "总之，您可以灵活定义您的数据格式。"
   ]
  },
  {
   "cell_type": "markdown",
   "id": "c65e16cb",
   "metadata": {
    "tags": []
   },
   "source": [
    "### 使用CPM-Bee进行基础任务微调\n",
    "\n",
    "本教程将以一个序列-序列任务为例介绍对 CPM-Bee 基座模型的微调。这里我们选择的任务需要将一句白话文“翻译”成一句古诗。首先，微调需要准备原始数据，格式如下：\n",
    "```json\n",
    "{\"target\": \"3\", \"input\": \"[翻译]昏暗的灯熄灭了又被重新点亮。[0]渔灯灭复明[1]残灯灭又然[2]残灯暗复明[3]残灯灭又明[答案]\"}\n",
    "```\n",
    "放置在路径`raw_data/`下。"
   ]
  },
  {
   "cell_type": "markdown",
   "id": "8d2abff4",
   "metadata": {},
   "source": [
    "官方示例中已经提供了该 raw data，并放置在 CPM-Bee/tutorials/basic_task_finetune/raw_data 下面，本教程将直接使用。"
   ]
  },
  {
   "cell_type": "markdown",
   "id": "b62b6e13",
   "metadata": {},
   "source": [
    "#### 重新调整数据格式："
   ]
  },
  {
   "cell_type": "code",
   "execution_count": null,
   "id": "b8b5b0c9",
   "metadata": {},
   "outputs": [],
   "source": [
    "%%sh\n",
    "cd CPM-Bee/tutorials/basic_task_finetune && python data_reformat.py"
   ]
  },
  {
   "cell_type": "markdown",
   "id": "7f28c2c8",
   "metadata": {},
   "source": [
    "得到格式：\n",
    "```json\n",
    "{\"input\": \"昏暗的灯熄灭了又被重新点亮。\", \"options\": {\"<option_0>\": \"渔灯灭复明\", \"<option_1>\": \"残灯灭又然\", \"<option_2>\": \"残灯暗复明\", \"<option_3>\": \"残灯灭又明\"}, \"question\": \"这段话形容了哪句诗的意境？\", \"<ans>\": \"<option_3>\"}\n",
    "```\n",
    "放置在路径`CPM-Bee/tutorials/basic_task_finetune/bee_data/`下。\n",
    "\n",
    "注：该格式为参考格式。微调时，您可以自由设计您的数据格式，可以不设置`prompt`字段，只要所提供的数据涵盖所有必要信息即可，但我们一般推荐将输入文本字段标识为\"input\"/\"document\"/\"doc\"，如果是选择题，则应当添加\"options\"字段与\"question\"字段；如果是一般的文本生成，包含`input`+`\\<ans\\>`即可。\n"
   ]
  },
  {
   "cell_type": "markdown",
   "id": "61dffb0a",
   "metadata": {},
   "source": [
    "#### 构建二进制数据文件："
   ]
  },
  {
   "cell_type": "code",
   "execution_count": null,
   "id": "b6abcd64",
   "metadata": {},
   "outputs": [],
   "source": [
    "!rm -rf CPM-Bee/tutorials/basic_task_finetune/bin_data\n",
    "!mkdir CPM-Bee/tutorials/basic_task_finetune/bin_data\n",
    "!rm -rf tmp\n",
    "!rm -rf CPM-Bee/tutorials/basic_task_finetune/bee_data/.ipynb_checkpoints"
   ]
  },
  {
   "cell_type": "code",
   "execution_count": null,
   "id": "b1850f31",
   "metadata": {},
   "outputs": [],
   "source": [
    "finetune_path = \"CPM-Bee/tutorials/basic_task_finetune\""
   ]
  },
  {
   "cell_type": "code",
   "execution_count": null,
   "id": "a8faea7d",
   "metadata": {},
   "outputs": [],
   "source": [
    "%%script env finetune_path=$finetune_path bash\n",
    "python CPM-Bee/src/preprocess_dataset.py --input ${finetune_path}/bee_data --output_path ${finetune_path}/bin_data --output_name ccpm_data"
   ]
  },
  {
   "cell_type": "markdown",
   "id": "2f8b4ff1",
   "metadata": {},
   "source": [
    "生成的数据将放在路径`bin_data/`下。\n",
    "\n",
    "**注：**应确保没有同名路径`ccpm_example/bin_data/`，如存在同名路径，应先删除该路径再运行上述指令。如未提前删除，该指令会报错`ValueError: Dataset name exists`，同时产生一个新路径`tmp/`，此时应当连同`tmp/`与同名路径`ccpm_example/bin_data/`一并删除，之后再运行上述指令即可。\n"
   ]
  },
  {
   "cell_type": "markdown",
   "id": "8d1790e2-5800-411d-8c6c-af26618670a7",
   "metadata": {},
   "source": [
    "## 下载 CPM-Bee 10B 原始模型"
   ]
  },
  {
   "cell_type": "code",
   "execution_count": null,
   "id": "e6088747",
   "metadata": {},
   "outputs": [],
   "source": [
    "!rm -rf ckpts\n",
    "!mkdir ckpts"
   ]
  },
  {
   "cell_type": "code",
   "execution_count": null,
   "id": "ee05fcfc-89a1-45fb-85ea-1681a1316a77",
   "metadata": {
    "tags": []
   },
   "outputs": [],
   "source": [
    "!pip install huggingface_hub"
   ]
  },
  {
   "cell_type": "code",
   "execution_count": null,
   "id": "3acd1f6f-6172-4326-8390-3f3a75361898",
   "metadata": {
    "tags": []
   },
   "outputs": [],
   "source": [
    "from huggingface_hub import snapshot_download\n",
    "from pathlib import Path\n",
    "\n",
    "\n",
    "local_cache_path = Path(\"ckpts/\")\n",
    "local_cache_path.mkdir(exist_ok=True)\n",
    "\n",
    "model_name = \"openbmb/cpm-bee-10b\"\n",
    "\n",
    "# Only download pytorch checkpoint files\n",
    "allow_patterns = [\"*.json\", \"*.pt\", \"*.bin\", \"*.model\", \"*.txt\", \"*.py\"]\n",
    "\n",
    "model_download_path = snapshot_download(\n",
    "    repo_id=model_name,\n",
    "    cache_dir=local_cache_path,\n",
    "    allow_patterns=allow_patterns,\n",
    ")"
   ]
  },
  {
   "cell_type": "code",
   "execution_count": null,
   "id": "42c0ce80-883b-46bf-a642-e8f69a5fdaab",
   "metadata": {
    "tags": []
   },
   "outputs": [],
   "source": [
    "# Get the model files path\n",
    "import os\n",
    "from glob import glob\n",
    "\n",
    "local_model_path = None\n",
    "\n",
    "paths = os.walk(r'./ckpts')\n",
    "for root, dirs, files in paths:\n",
    "    for file in files:\n",
    "        if file == 'config.json':\n",
    "            # print(os.path.join(root, file))\n",
    "            local_model_path = str(os.path.join(root, file))[0:-11]\n",
    "            print(local_model_path)\n",
    "if local_model_path == None:\n",
    "    print(\"Model download may failed, please check prior step!\")"
   ]
  },
  {
   "cell_type": "markdown",
   "id": "53a7c26c-952d-4c07-83e5-646efed110fb",
   "metadata": {},
   "source": [
    "## 将数据集和模型拷贝到S3"
   ]
  },
  {
   "cell_type": "code",
   "execution_count": null,
   "id": "088797c9-5995-4c6e-bded-d373e58cad80",
   "metadata": {
    "tags": []
   },
   "outputs": [],
   "source": [
    "%%script env sagemaker_default_bucket=$sagemaker_default_bucket local_model_path=$local_model_path bash\n",
    "\n",
    "chmod +x ./s5cmd\n",
    "./s5cmd sync ${local_model_path} s3://${sagemaker_default_bucket}/llm/models/cpm-bee/10B/\n",
    "./s5cmd sync CPM-Bee/tutorials/basic_task_finetune/bin_data/ s3://${sagemaker_default_bucket}/llm/datasets/cpm-bee/bin_data/\n"
   ]
  },
  {
   "cell_type": "markdown",
   "id": "36f29be5",
   "metadata": {},
   "source": [
    "### 删除原始模型和数据集（必做）\n",
    "节省 Notebook 实例上空间"
   ]
  },
  {
   "cell_type": "code",
   "execution_count": null,
   "id": "678baf4b",
   "metadata": {},
   "outputs": [],
   "source": [
    "%%sh\n",
    "rm -rf ckpts\n",
    "rm -rf CPM-Bee/tutorials/basic_task_finetune/bin_data"
   ]
  },
  {
   "cell_type": "markdown",
   "id": "800caa83-69d8-433b-980a-23cd2e6cb50b",
   "metadata": {
    "tags": []
   },
   "source": [
    "# 开始微调模型"
   ]
  },
  {
   "cell_type": "markdown",
   "id": "7052d461-6f2b-497e-83cc-d90517465e4f",
   "metadata": {
    "tags": []
   },
   "source": [
    "## 准备微调代码"
   ]
  },
  {
   "cell_type": "code",
   "execution_count": null,
   "id": "6da8c6eb",
   "metadata": {},
   "outputs": [],
   "source": [
    "%%writefile requirements.txt\n",
    "torch>=1.10,<2.0.0\n",
    "bmtrain>=0.2.1\n",
    "jieba\n",
    "tqdm\n",
    "tensorboard\n",
    "numpy>=1.21.0\n",
    "spacy\n",
    "scikit-learn\n",
    "opendelta"
   ]
  },
  {
   "cell_type": "markdown",
   "id": "45bd0612",
   "metadata": {},
   "source": [
    "#### 准备 launch script\n",
    "\n",
    "后续将以此脚本启动。\n",
    "\n",
    "**以下脚本运行在单台 g5.12xlarge （4卡A10）机器**"
   ]
  },
  {
   "cell_type": "code",
   "execution_count": null,
   "id": "21105576-92e1-4ca6-895d-bf22b3fbc1a9",
   "metadata": {
    "tags": []
   },
   "outputs": [],
   "source": [
    "%%writefile finetune_cpm_bee.sh\n",
    "#! /bin/bash\n",
    "\n",
    "export TORCH_CUDA_ARCH_LIST=\"6.0 6.1 7.0 7.5 8.0 8.6+PTX\"\n",
    "export SKLEARN_ALLOW_DEPRECATED_SKLEARN_PACKAGE_INSTALL=True \n",
    "pip install -r requirements.txt\n",
    "\n",
    "if [ $? -eq 1 ]; then\n",
    "    echo \"pip install error, please check CloudWatch logs\"\n",
    "    exit 1\n",
    "fi\n",
    "\n",
    "chmod +x ./s5cmd\n",
    "./s5cmd sync s3://$MODEL_S3_BUCKET/llm/models/cpm-bee/10B/* /tmp/cpm_pretrain/\n",
    "./s5cmd sync s3://$MODEL_S3_BUCKET/llm/datasets/cpm-bee/bin_data/* /tmp/bin_data/\n",
    "\n",
    "#单卡微调\n",
    "export CUDA_VISIBLE_DEVICES=0,1,2,3\n",
    "GPUS_PER_NODE=4\n",
    "\n",
    "NNODES=1\n",
    "MASTER_ADDR=\"localhost\"\n",
    "MASTER_PORT=12346\n",
    "\n",
    "OPTS=\"\"\n",
    "OPTS+=\" --use-delta\"  # 使用增量微调（delta-tuning）\n",
    "OPTS+=\" --model-config CPM-Bee/src/config/cpm-bee-10b.json\"  # 模型配置文件\n",
    "OPTS+=\" --dataset /tmp/bin_data/train\"  # 训练集路径\n",
    "OPTS+=\" --eval_dataset /tmp/bin_data/eval\"  # 验证集路径\n",
    "OPTS+=\" --epoch 5\"  # 训练epoch数\n",
    "OPTS+=\" --batch-size 8\"    # 数据批次大小\n",
    "OPTS+=\" --train-iters 100\"  # 用于lr_schedular\n",
    "OPTS+=\" --save-name cpm_bee_finetune\"  # 保存名称\n",
    "OPTS+=\" --max-length 1024\" # 最大长度\n",
    "OPTS+=\" --save /tmp/results/\"  # 保存路径\n",
    "OPTS+=\" --lr 0.0001\"    # 学习率\n",
    "OPTS+=\" --inspect-iters 100\"  # 每100个step进行一次检查(bmtrain inspect)\n",
    "OPTS+=\" --warmup-iters 1\" # 预热学习率的步数为1\n",
    "OPTS+=\" --eval-interval 50\"  # 每50步验证一次\n",
    "OPTS+=\" --early-stop-patience 5\"  # 如果验证集loss连续5次不降，停止微调\n",
    "OPTS+=\" --lr-decay-style noam\"  # 选择noam方式调度学习率\n",
    "OPTS+=\" --weight-decay 0.01\"  # 优化器权重衰减率为0.01\n",
    "OPTS+=\" --clip-grad 1.0\"  # 半精度训练的grad clip\n",
    "OPTS+=\" --loss-scale 32768\"  # 半精度训练的loss scale\n",
    "OPTS+=\" --start-step 0\"  # 用于加载lr_schedular的中间状态\n",
    "OPTS+=\" --load /tmp/cpm_pretrain/pytorch_model.bin\"  # 模型参数文件\n",
    "\n",
    "\n",
    "CMD=\"torchrun --nnodes=${NNODES} --nproc_per_node=${GPUS_PER_NODE} --rdzv_id=1 --rdzv_backend=c10d --rdzv_endpoint=${MASTER_ADDR}:${MASTER_PORT} CPM-Bee/src/finetune_cpm_bee.py ${OPTS}\"\n",
    "\n",
    "echo ${CMD}\n",
    "$CMD\n",
    "\n",
    "if [ $? -eq 1 ]; then\n",
    "    echo \"Training script error, please check CloudWatch logs\"\n",
    "    exit 1\n",
    "fi\n",
    "\n",
    "./s5cmd sync /tmp/results s3://$MODEL_S3_BUCKET/cpm-bee/output/$(date +%Y-%m-%d-%H-%M-%S)/"
   ]
  },
  {
   "cell_type": "code",
   "execution_count": null,
   "id": "a2e0b9d1-7366-481e-a72e-b75f497221bc",
   "metadata": {
    "scrolled": false,
    "tags": []
   },
   "outputs": [],
   "source": [
    "import time\n",
    "from sagemaker.pytorch.estimator import PyTorch\n",
    "\n",
    "environment = {\n",
    "              'MODEL_S3_BUCKET': sagemaker_default_bucket, # The bucket to store pretrained model and fine-tune model\n",
    "              'PIP_CACHE_DIR': \"/opt/ml/sagemaker/warmpoolcache/pip\"\n",
    "}\n",
    "\n",
    "base_job_name = 'cpm-bee-finetune'         \n",
    "\n",
    "instance_type = 'ml.g5.12xlarge'\n",
    "\n",
    "estimator = PyTorch(role=role,\n",
    "                      entry_point='finetune_cpm_bee.sh',\n",
    "                      source_dir='./', ## 务必确保该目录下，已经删除了 ckpts目录，即删除了模型文件目录，该目录下不能有大文件\n",
    "                      base_job_name=base_job_name,\n",
    "                      instance_count=1,\n",
    "                      instance_type=instance_type,\n",
    "                      framework_version='1.11.0',\n",
    "                      py_version='py38',\n",
    "                      environment=environment,\n",
    "                      keep_alive_period_in_seconds=15*60,\n",
    "                      disable_profiler=True,\n",
    "                      debugger_hook_config=False)\n",
    "\n",
    "estimator.fit()"
   ]
  }
 ],
 "metadata": {
  "kernelspec": {
   "display_name": "conda_mxnet_p38",
   "language": "python",
   "name": "conda_mxnet_p38"
  },
  "language_info": {
   "codemirror_mode": {
    "name": "ipython",
    "version": 3
   },
   "file_extension": ".py",
   "mimetype": "text/x-python",
   "name": "python",
   "nbconvert_exporter": "python",
   "pygments_lexer": "ipython3",
   "version": "3.8.16"
  }
 },
 "nbformat": 4,
 "nbformat_minor": 5
}
